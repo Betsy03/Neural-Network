{
 "cells": [
  {
   "cell_type": "code",
   "execution_count": 1,
   "metadata": {},
   "outputs": [],
   "source": [
    "import pandas as pd\n",
    "import numpy as np\n",
    "import matplotlib.pyplot as plt\n",
    "import warnings\n",
    "warnings.filterwarnings(\"ignore\")"
   ]
  },
  {
   "cell_type": "code",
   "execution_count": 2,
   "metadata": {},
   "outputs": [],
   "source": [
    "concrete=pd.read_csv('A:/Data Science/assignments/Neural network/concrete.csv')"
   ]
  },
  {
   "cell_type": "code",
   "execution_count": 3,
   "metadata": {},
   "outputs": [
    {
     "data": {
      "text/html": [
       "<div>\n",
       "<style scoped>\n",
       "    .dataframe tbody tr th:only-of-type {\n",
       "        vertical-align: middle;\n",
       "    }\n",
       "\n",
       "    .dataframe tbody tr th {\n",
       "        vertical-align: top;\n",
       "    }\n",
       "\n",
       "    .dataframe thead th {\n",
       "        text-align: right;\n",
       "    }\n",
       "</style>\n",
       "<table border=\"1\" class=\"dataframe\">\n",
       "  <thead>\n",
       "    <tr style=\"text-align: right;\">\n",
       "      <th></th>\n",
       "      <th>cement</th>\n",
       "      <th>slag</th>\n",
       "      <th>ash</th>\n",
       "      <th>water</th>\n",
       "      <th>superplastic</th>\n",
       "      <th>coarseagg</th>\n",
       "      <th>fineagg</th>\n",
       "      <th>age</th>\n",
       "      <th>strength</th>\n",
       "    </tr>\n",
       "  </thead>\n",
       "  <tbody>\n",
       "    <tr>\n",
       "      <th>0</th>\n",
       "      <td>141.3</td>\n",
       "      <td>212.0</td>\n",
       "      <td>0.0</td>\n",
       "      <td>203.5</td>\n",
       "      <td>0.0</td>\n",
       "      <td>971.8</td>\n",
       "      <td>748.5</td>\n",
       "      <td>28</td>\n",
       "      <td>29.89</td>\n",
       "    </tr>\n",
       "    <tr>\n",
       "      <th>1</th>\n",
       "      <td>168.9</td>\n",
       "      <td>42.2</td>\n",
       "      <td>124.3</td>\n",
       "      <td>158.3</td>\n",
       "      <td>10.8</td>\n",
       "      <td>1080.8</td>\n",
       "      <td>796.2</td>\n",
       "      <td>14</td>\n",
       "      <td>23.51</td>\n",
       "    </tr>\n",
       "    <tr>\n",
       "      <th>2</th>\n",
       "      <td>250.0</td>\n",
       "      <td>0.0</td>\n",
       "      <td>95.7</td>\n",
       "      <td>187.4</td>\n",
       "      <td>5.5</td>\n",
       "      <td>956.9</td>\n",
       "      <td>861.2</td>\n",
       "      <td>28</td>\n",
       "      <td>29.22</td>\n",
       "    </tr>\n",
       "    <tr>\n",
       "      <th>3</th>\n",
       "      <td>266.0</td>\n",
       "      <td>114.0</td>\n",
       "      <td>0.0</td>\n",
       "      <td>228.0</td>\n",
       "      <td>0.0</td>\n",
       "      <td>932.0</td>\n",
       "      <td>670.0</td>\n",
       "      <td>28</td>\n",
       "      <td>45.85</td>\n",
       "    </tr>\n",
       "    <tr>\n",
       "      <th>4</th>\n",
       "      <td>154.8</td>\n",
       "      <td>183.4</td>\n",
       "      <td>0.0</td>\n",
       "      <td>193.3</td>\n",
       "      <td>9.1</td>\n",
       "      <td>1047.4</td>\n",
       "      <td>696.7</td>\n",
       "      <td>28</td>\n",
       "      <td>18.29</td>\n",
       "    </tr>\n",
       "  </tbody>\n",
       "</table>\n",
       "</div>"
      ],
      "text/plain": [
       "   cement   slag    ash  water  superplastic  coarseagg  fineagg  age  \\\n",
       "0   141.3  212.0    0.0  203.5           0.0      971.8    748.5   28   \n",
       "1   168.9   42.2  124.3  158.3          10.8     1080.8    796.2   14   \n",
       "2   250.0    0.0   95.7  187.4           5.5      956.9    861.2   28   \n",
       "3   266.0  114.0    0.0  228.0           0.0      932.0    670.0   28   \n",
       "4   154.8  183.4    0.0  193.3           9.1     1047.4    696.7   28   \n",
       "\n",
       "   strength  \n",
       "0     29.89  \n",
       "1     23.51  \n",
       "2     29.22  \n",
       "3     45.85  \n",
       "4     18.29  "
      ]
     },
     "execution_count": 3,
     "metadata": {},
     "output_type": "execute_result"
    }
   ],
   "source": [
    "concrete.head()"
   ]
  },
  {
   "cell_type": "code",
   "execution_count": 8,
   "metadata": {},
   "outputs": [],
   "source": [
    "from sklearn.preprocessing import MinMaxScaler\n",
    "scale=MinMaxScaler()\n",
    "concrete_scaled=scale.fit_transform(concrete)\n",
    "concrete_scaled=pd.DataFrame(concrete_scaled,columns=concrete.columns)"
   ]
  },
  {
   "cell_type": "code",
   "execution_count": 9,
   "metadata": {},
   "outputs": [
    {
     "data": {
      "text/html": [
       "<div>\n",
       "<style scoped>\n",
       "    .dataframe tbody tr th:only-of-type {\n",
       "        vertical-align: middle;\n",
       "    }\n",
       "\n",
       "    .dataframe tbody tr th {\n",
       "        vertical-align: top;\n",
       "    }\n",
       "\n",
       "    .dataframe thead th {\n",
       "        text-align: right;\n",
       "    }\n",
       "</style>\n",
       "<table border=\"1\" class=\"dataframe\">\n",
       "  <thead>\n",
       "    <tr style=\"text-align: right;\">\n",
       "      <th></th>\n",
       "      <th>cement</th>\n",
       "      <th>slag</th>\n",
       "      <th>ash</th>\n",
       "      <th>water</th>\n",
       "      <th>superplastic</th>\n",
       "      <th>coarseagg</th>\n",
       "      <th>fineagg</th>\n",
       "      <th>age</th>\n",
       "      <th>strength</th>\n",
       "    </tr>\n",
       "  </thead>\n",
       "  <tbody>\n",
       "    <tr>\n",
       "      <th>0</th>\n",
       "      <td>0.089726</td>\n",
       "      <td>0.589872</td>\n",
       "      <td>0.000000</td>\n",
       "      <td>0.652556</td>\n",
       "      <td>0.000000</td>\n",
       "      <td>0.496512</td>\n",
       "      <td>0.387607</td>\n",
       "      <td>0.074176</td>\n",
       "      <td>0.343341</td>\n",
       "    </tr>\n",
       "    <tr>\n",
       "      <th>1</th>\n",
       "      <td>0.152740</td>\n",
       "      <td>0.117418</td>\n",
       "      <td>0.621189</td>\n",
       "      <td>0.291534</td>\n",
       "      <td>0.335404</td>\n",
       "      <td>0.813372</td>\n",
       "      <td>0.507275</td>\n",
       "      <td>0.035714</td>\n",
       "      <td>0.263859</td>\n",
       "    </tr>\n",
       "    <tr>\n",
       "      <th>2</th>\n",
       "      <td>0.337900</td>\n",
       "      <td>0.000000</td>\n",
       "      <td>0.478261</td>\n",
       "      <td>0.523962</td>\n",
       "      <td>0.170807</td>\n",
       "      <td>0.453198</td>\n",
       "      <td>0.670346</td>\n",
       "      <td>0.074176</td>\n",
       "      <td>0.334994</td>\n",
       "    </tr>\n",
       "    <tr>\n",
       "      <th>3</th>\n",
       "      <td>0.374429</td>\n",
       "      <td>0.317195</td>\n",
       "      <td>0.000000</td>\n",
       "      <td>0.848243</td>\n",
       "      <td>0.000000</td>\n",
       "      <td>0.380814</td>\n",
       "      <td>0.190667</td>\n",
       "      <td>0.074176</td>\n",
       "      <td>0.542170</td>\n",
       "    </tr>\n",
       "    <tr>\n",
       "      <th>4</th>\n",
       "      <td>0.120548</td>\n",
       "      <td>0.510295</td>\n",
       "      <td>0.000000</td>\n",
       "      <td>0.571086</td>\n",
       "      <td>0.282609</td>\n",
       "      <td>0.716279</td>\n",
       "      <td>0.257652</td>\n",
       "      <td>0.074176</td>\n",
       "      <td>0.198829</td>\n",
       "    </tr>\n",
       "  </tbody>\n",
       "</table>\n",
       "</div>"
      ],
      "text/plain": [
       "     cement      slag       ash     water  superplastic  coarseagg   fineagg  \\\n",
       "0  0.089726  0.589872  0.000000  0.652556      0.000000   0.496512  0.387607   \n",
       "1  0.152740  0.117418  0.621189  0.291534      0.335404   0.813372  0.507275   \n",
       "2  0.337900  0.000000  0.478261  0.523962      0.170807   0.453198  0.670346   \n",
       "3  0.374429  0.317195  0.000000  0.848243      0.000000   0.380814  0.190667   \n",
       "4  0.120548  0.510295  0.000000  0.571086      0.282609   0.716279  0.257652   \n",
       "\n",
       "        age  strength  \n",
       "0  0.074176  0.343341  \n",
       "1  0.035714  0.263859  \n",
       "2  0.074176  0.334994  \n",
       "3  0.074176  0.542170  \n",
       "4  0.074176  0.198829  "
      ]
     },
     "execution_count": 9,
     "metadata": {},
     "output_type": "execute_result"
    }
   ],
   "source": [
    "concrete_scaled.head()"
   ]
  },
  {
   "cell_type": "code",
   "execution_count": 13,
   "metadata": {},
   "outputs": [
    {
     "data": {
      "text/plain": [
       "(1030, 9)"
      ]
     },
     "execution_count": 13,
     "metadata": {},
     "output_type": "execute_result"
    }
   ],
   "source": [
    "concrete_scaled.shape"
   ]
  },
  {
   "cell_type": "code",
   "execution_count": 11,
   "metadata": {},
   "outputs": [],
   "source": [
    "from keras.models import Sequential\n",
    "from keras.layers import Dense,Activation\n",
    "from sklearn.model_selection import train_test_split"
   ]
  },
  {
   "cell_type": "code",
   "execution_count": 14,
   "metadata": {},
   "outputs": [],
   "source": [
    "X=concrete_scaled.iloc[:,0:8]\n",
    "y=concrete_scaled.iloc[:,8]\n",
    "X_train,X_test,y_train,y_test=train_test_split(X,y,test_size=0.2,random_state=2)"
   ]
  },
  {
   "cell_type": "code",
   "execution_count": 41,
   "metadata": {},
   "outputs": [],
   "source": [
    "#Build 3 hidden layers\n",
    "def prep(layers):\n",
    "    mod=Sequential()\n",
    "    for i in range(1,4):\n",
    "        if (i==1):\n",
    "             mod.add(Dense(layers[i],input_dim=layers[0],activation='relu'))\n",
    "        else:\n",
    "             mod.add(Dense(layers[i],kernel_initializer='normal',activation='relu'))\n",
    "    mod.add(Dense(layers[-1],kernel_initializer='normal',activation='linear'))\n",
    "    mod.compile(loss='mean_squared_error',optimizer='adam',metrics=['accuracy'])\n",
    "    return mod"
   ]
  },
  {
   "cell_type": "code",
   "execution_count": 40,
   "metadata": {},
   "outputs": [],
   "source": [
    "layers=prep([8,50,40,20,1])"
   ]
  },
  {
   "cell_type": "code",
   "execution_count": 24,
   "metadata": {},
   "outputs": [
    {
     "name": "stdout",
     "output_type": "stream",
     "text": [
      "Model: \"sequential_2\"\n",
      "_________________________________________________________________\n",
      "Layer (type)                 Output Shape              Param #   \n",
      "=================================================================\n",
      "dense_5 (Dense)              (None, 30)                270       \n",
      "_________________________________________________________________\n",
      "dense_6 (Dense)              (None, 50)                1550      \n",
      "_________________________________________________________________\n",
      "dense_7 (Dense)              (None, 10)                510       \n",
      "_________________________________________________________________\n",
      "dense_8 (Dense)              (None, 1)                 11        \n",
      "=================================================================\n",
      "Total params: 2,341\n",
      "Trainable params: 2,341\n",
      "Non-trainable params: 0\n",
      "_________________________________________________________________\n"
     ]
    }
   ],
   "source": [
    "layers.summary()"
   ]
  },
  {
   "cell_type": "code",
   "execution_count": 42,
   "metadata": {},
   "outputs": [
    {
     "name": "stdout",
     "output_type": "stream",
     "text": [
      "Epoch 1/80\n",
      "824/824 [==============================] - 0s 236us/step - loss: 0.1665 - accuracy: 0.0000e+00\n",
      "Epoch 2/80\n",
      "824/824 [==============================] - 0s 55us/step - loss: 0.0460 - accuracy: 0.0012\n",
      "Epoch 3/80\n",
      "824/824 [==============================] - 0s 52us/step - loss: 0.0314 - accuracy: 0.0012\n",
      "Epoch 4/80\n",
      "824/824 [==============================] - 0s 52us/step - loss: 0.0246 - accuracy: 0.0012\n",
      "Epoch 5/80\n",
      "824/824 [==============================] - 0s 58us/step - loss: 0.0208 - accuracy: 0.0012\n",
      "Epoch 6/80\n",
      "824/824 [==============================] - 0s 58us/step - loss: 0.0199 - accuracy: 0.0012\n",
      "Epoch 7/80\n",
      "824/824 [==============================] - 0s 62us/step - loss: 0.0185 - accuracy: 0.0012\n",
      "Epoch 8/80\n",
      "824/824 [==============================] - 0s 57us/step - loss: 0.0169 - accuracy: 0.0012\n",
      "Epoch 9/80\n",
      "824/824 [==============================] - 0s 57us/step - loss: 0.0163 - accuracy: 0.0012\n",
      "Epoch 10/80\n",
      "824/824 [==============================] - 0s 58us/step - loss: 0.0155 - accuracy: 0.0012\n",
      "Epoch 11/80\n",
      "824/824 [==============================] - 0s 61us/step - loss: 0.0148 - accuracy: 0.0012\n",
      "Epoch 12/80\n",
      "824/824 [==============================] - 0s 59us/step - loss: 0.0140 - accuracy: 0.0012\n",
      "Epoch 13/80\n",
      "824/824 [==============================] - 0s 57us/step - loss: 0.0130 - accuracy: 0.0012\n",
      "Epoch 14/80\n",
      "824/824 [==============================] - 0s 56us/step - loss: 0.0122 - accuracy: 0.0012\n",
      "Epoch 15/80\n",
      "824/824 [==============================] - 0s 58us/step - loss: 0.0113 - accuracy: 0.0012\n",
      "Epoch 16/80\n",
      "824/824 [==============================] - 0s 67us/step - loss: 0.0107 - accuracy: 0.0012\n",
      "Epoch 17/80\n",
      "824/824 [==============================] - 0s 62us/step - loss: 0.0100 - accuracy: 0.0012\n",
      "Epoch 18/80\n",
      "824/824 [==============================] - 0s 62us/step - loss: 0.0099 - accuracy: 0.0012\n",
      "Epoch 19/80\n",
      "824/824 [==============================] - 0s 59us/step - loss: 0.0095 - accuracy: 0.0012\n",
      "Epoch 20/80\n",
      "824/824 [==============================] - 0s 62us/step - loss: 0.0092 - accuracy: 0.0012\n",
      "Epoch 21/80\n",
      "824/824 [==============================] - 0s 64us/step - loss: 0.0092 - accuracy: 0.0012\n",
      "Epoch 22/80\n",
      "824/824 [==============================] - 0s 62us/step - loss: 0.0087 - accuracy: 0.0012\n",
      "Epoch 23/80\n",
      "824/824 [==============================] - 0s 57us/step - loss: 0.0084 - accuracy: 0.0012\n",
      "Epoch 24/80\n",
      "824/824 [==============================] - 0s 65us/step - loss: 0.0081 - accuracy: 0.0012\n",
      "Epoch 25/80\n",
      "824/824 [==============================] - 0s 62us/step - loss: 0.0079 - accuracy: 0.0012\n",
      "Epoch 26/80\n",
      "824/824 [==============================] - 0s 64us/step - loss: 0.0081 - accuracy: 0.0012\n",
      "Epoch 27/80\n",
      "824/824 [==============================] - 0s 61us/step - loss: 0.0077 - accuracy: 0.0012\n",
      "Epoch 28/80\n",
      "824/824 [==============================] - 0s 62us/step - loss: 0.0076 - accuracy: 0.0012\n",
      "Epoch 29/80\n",
      "824/824 [==============================] - 0s 73us/step - loss: 0.0072 - accuracy: 0.0012\n",
      "Epoch 30/80\n",
      "824/824 [==============================] - 0s 53us/step - loss: 0.0072 - accuracy: 0.0012\n",
      "Epoch 31/80\n",
      "824/824 [==============================] - 0s 52us/step - loss: 0.0068 - accuracy: 0.0012\n",
      "Epoch 32/80\n",
      "824/824 [==============================] - 0s 56us/step - loss: 0.0067 - accuracy: 0.0012\n",
      "Epoch 33/80\n",
      "824/824 [==============================] - 0s 52us/step - loss: 0.0067 - accuracy: 0.0012\n",
      "Epoch 34/80\n",
      "824/824 [==============================] - ETA: 0s - loss: 0.0072 - accuracy: 0.0000e+ - 0s 63us/step - loss: 0.0067 - accuracy: 0.0012\n",
      "Epoch 35/80\n",
      "824/824 [==============================] - 0s 67us/step - loss: 0.0064 - accuracy: 0.0012\n",
      "Epoch 36/80\n",
      "824/824 [==============================] - 0s 84us/step - loss: 0.0063 - accuracy: 0.0012\n",
      "Epoch 37/80\n",
      "824/824 [==============================] - 0s 67us/step - loss: 0.0064 - accuracy: 0.0012\n",
      "Epoch 38/80\n",
      "824/824 [==============================] - 0s 59us/step - loss: 0.0062 - accuracy: 0.0012\n",
      "Epoch 39/80\n",
      "824/824 [==============================] - 0s 90us/step - loss: 0.0062 - accuracy: 0.0012\n",
      "Epoch 40/80\n",
      "824/824 [==============================] - 0s 61us/step - loss: 0.0061 - accuracy: 0.0012\n",
      "Epoch 41/80\n",
      "824/824 [==============================] - 0s 51us/step - loss: 0.0060 - accuracy: 0.0012\n",
      "Epoch 42/80\n",
      "824/824 [==============================] - 0s 67us/step - loss: 0.0058 - accuracy: 0.0012\n",
      "Epoch 43/80\n",
      "824/824 [==============================] - 0s 65us/step - loss: 0.0058 - accuracy: 0.0012\n",
      "Epoch 44/80\n",
      "824/824 [==============================] - 0s 63us/step - loss: 0.0057 - accuracy: 0.0012\n",
      "Epoch 45/80\n",
      "824/824 [==============================] - 0s 62us/step - loss: 0.0056 - accuracy: 0.0012\n",
      "Epoch 46/80\n",
      "824/824 [==============================] - 0s 58us/step - loss: 0.0057 - accuracy: 0.0012\n",
      "Epoch 47/80\n",
      "824/824 [==============================] - 0s 51us/step - loss: 0.0055 - accuracy: 0.0012\n",
      "Epoch 48/80\n",
      "824/824 [==============================] - 0s 51us/step - loss: 0.0054 - accuracy: 0.0012\n",
      "Epoch 49/80\n",
      "824/824 [==============================] - 0s 56us/step - loss: 0.0054 - accuracy: 0.0012\n",
      "Epoch 50/80\n",
      "824/824 [==============================] - 0s 59us/step - loss: 0.0052 - accuracy: 0.0012\n",
      "Epoch 51/80\n",
      "824/824 [==============================] - 0s 63us/step - loss: 0.0053 - accuracy: 0.0012\n",
      "Epoch 52/80\n",
      "824/824 [==============================] - 0s 56us/step - loss: 0.0051 - accuracy: 0.0012\n",
      "Epoch 53/80\n",
      "824/824 [==============================] - 0s 57us/step - loss: 0.0048 - accuracy: 0.0012\n",
      "Epoch 54/80\n",
      "824/824 [==============================] - 0s 52us/step - loss: 0.0048 - accuracy: 0.0012\n",
      "Epoch 55/80\n",
      "824/824 [==============================] - 0s 64us/step - loss: 0.0048 - accuracy: 0.0012\n",
      "Epoch 56/80\n",
      "824/824 [==============================] - 0s 62us/step - loss: 0.0045 - accuracy: 0.0012\n",
      "Epoch 57/80\n",
      "824/824 [==============================] - 0s 63us/step - loss: 0.0046 - accuracy: 0.0012\n",
      "Epoch 58/80\n",
      "824/824 [==============================] - 0s 63us/step - loss: 0.0047 - accuracy: 0.0012\n",
      "Epoch 59/80\n",
      "824/824 [==============================] - 0s 63us/step - loss: 0.0046 - accuracy: 0.0012\n",
      "Epoch 60/80\n",
      "824/824 [==============================] - 0s 65us/step - loss: 0.0046 - accuracy: 0.0012\n",
      "Epoch 61/80\n",
      "824/824 [==============================] - 0s 64us/step - loss: 0.0045 - accuracy: 0.0012\n",
      "Epoch 62/80\n",
      "824/824 [==============================] - 0s 61us/step - loss: 0.0043 - accuracy: 0.0012\n",
      "Epoch 63/80\n",
      "824/824 [==============================] - 0s 56us/step - loss: 0.0044 - accuracy: 0.0012\n",
      "Epoch 64/80\n",
      "824/824 [==============================] - 0s 51us/step - loss: 0.0043 - accuracy: 0.0012\n",
      "Epoch 65/80\n",
      "824/824 [==============================] - 0s 51us/step - loss: 0.0043 - accuracy: 0.0012\n",
      "Epoch 66/80\n",
      "824/824 [==============================] - 0s 51us/step - loss: 0.0040 - accuracy: 0.0012\n",
      "Epoch 67/80\n",
      "824/824 [==============================] - 0s 58us/step - loss: 0.0041 - accuracy: 0.0012\n",
      "Epoch 68/80\n",
      "824/824 [==============================] - 0s 56us/step - loss: 0.0039 - accuracy: 0.0012\n",
      "Epoch 69/80\n",
      "824/824 [==============================] - 0s 63us/step - loss: 0.0039 - accuracy: 0.0012\n",
      "Epoch 70/80\n",
      "824/824 [==============================] - 0s 64us/step - loss: 0.0039 - accuracy: 0.0012\n",
      "Epoch 71/80\n",
      "824/824 [==============================] - 0s 58us/step - loss: 0.0038 - accuracy: 0.0012\n",
      "Epoch 72/80\n",
      "824/824 [==============================] - 0s 61us/step - loss: 0.0037 - accuracy: 0.0012\n",
      "Epoch 73/80\n",
      "824/824 [==============================] - 0s 57us/step - loss: 0.0038 - accuracy: 0.0012\n",
      "Epoch 74/80\n",
      "824/824 [==============================] - 0s 61us/step - loss: 0.0037 - accuracy: 0.0012\n",
      "Epoch 75/80\n",
      "824/824 [==============================] - 0s 61us/step - loss: 0.0037 - accuracy: 0.0012\n",
      "Epoch 76/80\n",
      "824/824 [==============================] - 0s 57us/step - loss: 0.0035 - accuracy: 0.0012\n",
      "Epoch 77/80\n",
      "824/824 [==============================] - 0s 76us/step - loss: 0.0036 - accuracy: 0.0012\n",
      "Epoch 78/80\n",
      "824/824 [==============================] - 0s 73us/step - loss: 0.0037 - accuracy: 0.0012\n",
      "Epoch 79/80\n",
      "824/824 [==============================] - 0s 72us/step - loss: 0.0036 - accuracy: 0.0012\n",
      "Epoch 80/80\n"
     ]
    },
    {
     "name": "stdout",
     "output_type": "stream",
     "text": [
      "824/824 [==============================] - 0s 80us/step - loss: 0.0039 - accuracy: 0.0012\n"
     ]
    },
    {
     "data": {
      "text/plain": [
       "<keras.callbacks.callbacks.History at 0x19bf762ecc0>"
      ]
     },
     "execution_count": 42,
     "metadata": {},
     "output_type": "execute_result"
    }
   ],
   "source": [
    "layers.fit(X_train,y_train,epochs=80)"
   ]
  },
  {
   "cell_type": "code",
   "execution_count": 43,
   "metadata": {},
   "outputs": [
    {
     "data": {
      "text/plain": [
       "0      0.612510\n",
       "1      0.191102\n",
       "2      0.051975\n",
       "3      0.726359\n",
       "4      0.426634\n",
       "         ...   \n",
       "201    0.368448\n",
       "202    0.366519\n",
       "203    0.240612\n",
       "204    0.399010\n",
       "205    0.097817\n",
       "Length: 206, dtype: float64"
      ]
     },
     "execution_count": 43,
     "metadata": {},
     "output_type": "execute_result"
    }
   ],
   "source": [
    "predicted=layers.predict(X_test)\n",
    "predicted1=pd.Series(i[0] for i in predicted)\n",
    "predicted1"
   ]
  },
  {
   "cell_type": "code",
   "execution_count": 44,
   "metadata": {},
   "outputs": [
    {
     "data": {
      "text/plain": [
       "array([[1.        , 0.95640136],\n",
       "       [0.95640136, 1.        ]])"
      ]
     },
     "execution_count": 44,
     "metadata": {},
     "output_type": "execute_result"
    }
   ],
   "source": [
    "np.corrcoef(predicted1,y_test.values)"
   ]
  },
  {
   "cell_type": "code",
   "execution_count": 45,
   "metadata": {},
   "outputs": [],
   "source": [
    "import seaborn as sns"
   ]
  },
  {
   "cell_type": "code",
   "execution_count": 46,
   "metadata": {},
   "outputs": [
    {
     "data": {
      "text/plain": [
       "<matplotlib.axes._subplots.AxesSubplot at 0x19bf77cf198>"
      ]
     },
     "execution_count": 46,
     "metadata": {},
     "output_type": "execute_result"
    },
    {
     "data": {
      "image/png": "[encoded data removed]",
      "text/plain": [
       "<Figure size 432x288 with 1 Axes>"
      ]
     },
     "metadata": {
      "needs_background": "light"
     },
     "output_type": "display_data"
    }
   ],
   "source": [
    "sns.scatterplot(predicted1,y_test.values)"
   ]
  },
  {
   "cell_type": "code",
   "execution_count": null,
   "metadata": {},
   "outputs": [],
   "source": [
    "%Accuracy of this model is 96%"
   ]
  }
 ],
 "metadata": {
  "kernelspec": {
   "display_name": "Python 3",
   "language": "python",
   "name": "python3"
  },
  "language_info": {
   "codemirror_mode": {
    "name": "ipython",
    "version": 3
   },
   "file_extension": ".py",
   "mimetype": "text/x-python",
   "name": "python",
   "nbconvert_exporter": "python",
   "pygments_lexer": "ipython3",
   "version": "3.7.0"
  }
 },
 "nbformat": 4,
 "nbformat_minor": 2
}
