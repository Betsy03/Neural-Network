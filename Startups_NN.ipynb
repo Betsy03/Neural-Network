{
 "cells": [
  {
   "cell_type": "code",
   "execution_count": 202,
   "metadata": {},
   "outputs": [],
   "source": [
    "import pandas as pd\n",
    "import numpy as np\n",
    "import matplotlib.pyplot as plt\n",
    "import warnings\n",
    "warnings.filterwarnings(\"ignore\")"
   ]
  },
  {
   "cell_type": "code",
   "execution_count": 203,
   "metadata": {},
   "outputs": [],
   "source": [
    "from keras.models import Sequential\n",
    "from keras.layers import Dense,Activation,Layer"
   ]
  },
  {
   "cell_type": "code",
   "execution_count": 213,
   "metadata": {},
   "outputs": [],
   "source": [
    "startups=pd.read_csv(\"A:/Data Science/assignments/Neural network/50_Startups.csv\")"
   ]
  },
  {
   "cell_type": "code",
   "execution_count": 205,
   "metadata": {},
   "outputs": [],
   "source": [
    "del startups['State']"
   ]
  },
  {
   "cell_type": "code",
   "execution_count": 206,
   "metadata": {},
   "outputs": [
    {
     "data": {
      "text/html": [
       "<div>\n",
       "<style scoped>\n",
       "    .dataframe tbody tr th:only-of-type {\n",
       "        vertical-align: middle;\n",
       "    }\n",
       "\n",
       "    .dataframe tbody tr th {\n",
       "        vertical-align: top;\n",
       "    }\n",
       "\n",
       "    .dataframe thead th {\n",
       "        text-align: right;\n",
       "    }\n",
       "</style>\n",
       "<table border=\"1\" class=\"dataframe\">\n",
       "  <thead>\n",
       "    <tr style=\"text-align: right;\">\n",
       "      <th></th>\n",
       "      <th>R&amp;D Spend</th>\n",
       "      <th>Administration</th>\n",
       "      <th>Marketing Spend</th>\n",
       "      <th>Profit</th>\n",
       "    </tr>\n",
       "  </thead>\n",
       "  <tbody>\n",
       "    <tr>\n",
       "      <th>0</th>\n",
       "      <td>165349.20</td>\n",
       "      <td>136897.80</td>\n",
       "      <td>471784.10</td>\n",
       "      <td>192261.83</td>\n",
       "    </tr>\n",
       "    <tr>\n",
       "      <th>1</th>\n",
       "      <td>162597.70</td>\n",
       "      <td>151377.59</td>\n",
       "      <td>443898.53</td>\n",
       "      <td>191792.06</td>\n",
       "    </tr>\n",
       "    <tr>\n",
       "      <th>2</th>\n",
       "      <td>153441.51</td>\n",
       "      <td>101145.55</td>\n",
       "      <td>407934.54</td>\n",
       "      <td>191050.39</td>\n",
       "    </tr>\n",
       "    <tr>\n",
       "      <th>3</th>\n",
       "      <td>144372.41</td>\n",
       "      <td>118671.85</td>\n",
       "      <td>383199.62</td>\n",
       "      <td>182901.99</td>\n",
       "    </tr>\n",
       "    <tr>\n",
       "      <th>4</th>\n",
       "      <td>142107.34</td>\n",
       "      <td>91391.77</td>\n",
       "      <td>366168.42</td>\n",
       "      <td>166187.94</td>\n",
       "    </tr>\n",
       "  </tbody>\n",
       "</table>\n",
       "</div>"
      ],
      "text/plain": [
       "   R&D Spend  Administration  Marketing Spend     Profit\n",
       "0  165349.20       136897.80        471784.10  192261.83\n",
       "1  162597.70       151377.59        443898.53  191792.06\n",
       "2  153441.51       101145.55        407934.54  191050.39\n",
       "3  144372.41       118671.85        383199.62  182901.99\n",
       "4  142107.34        91391.77        366168.42  166187.94"
      ]
     },
     "execution_count": 206,
     "metadata": {},
     "output_type": "execute_result"
    }
   ],
   "source": [
    "startups.head()"
   ]
  },
  {
   "cell_type": "code",
   "execution_count": 208,
   "metadata": {},
   "outputs": [],
   "source": [
    "from sklearn.preprocessing import MinMaxScaler\n",
    "mod=MinMaxScaler()\n",
    "scaled=mod.fit_transform(startups.iloc[:,0:5])\n",
    "startup_scaled=pd.DataFrame(scaled,columns=startups.columns)"
   ]
  },
  {
   "cell_type": "code",
   "execution_count": 209,
   "metadata": {},
   "outputs": [
    {
     "data": {
      "text/html": [
       "<div>\n",
       "<style scoped>\n",
       "    .dataframe tbody tr th:only-of-type {\n",
       "        vertical-align: middle;\n",
       "    }\n",
       "\n",
       "    .dataframe tbody tr th {\n",
       "        vertical-align: top;\n",
       "    }\n",
       "\n",
       "    .dataframe thead th {\n",
       "        text-align: right;\n",
       "    }\n",
       "</style>\n",
       "<table border=\"1\" class=\"dataframe\">\n",
       "  <thead>\n",
       "    <tr style=\"text-align: right;\">\n",
       "      <th></th>\n",
       "      <th>R&amp;D Spend</th>\n",
       "      <th>Administration</th>\n",
       "      <th>Marketing Spend</th>\n",
       "      <th>Profit</th>\n",
       "    </tr>\n",
       "  </thead>\n",
       "  <tbody>\n",
       "    <tr>\n",
       "      <th>0</th>\n",
       "      <td>1.000000</td>\n",
       "      <td>0.651744</td>\n",
       "      <td>1.000000</td>\n",
       "      <td>1.000000</td>\n",
       "    </tr>\n",
       "    <tr>\n",
       "      <th>1</th>\n",
       "      <td>0.983359</td>\n",
       "      <td>0.761972</td>\n",
       "      <td>0.940893</td>\n",
       "      <td>0.997355</td>\n",
       "    </tr>\n",
       "    <tr>\n",
       "      <th>2</th>\n",
       "      <td>0.927985</td>\n",
       "      <td>0.379579</td>\n",
       "      <td>0.864664</td>\n",
       "      <td>0.993178</td>\n",
       "    </tr>\n",
       "    <tr>\n",
       "      <th>3</th>\n",
       "      <td>0.873136</td>\n",
       "      <td>0.512998</td>\n",
       "      <td>0.812235</td>\n",
       "      <td>0.947292</td>\n",
       "    </tr>\n",
       "    <tr>\n",
       "      <th>4</th>\n",
       "      <td>0.859438</td>\n",
       "      <td>0.305328</td>\n",
       "      <td>0.776136</td>\n",
       "      <td>0.853171</td>\n",
       "    </tr>\n",
       "  </tbody>\n",
       "</table>\n",
       "</div>"
      ],
      "text/plain": [
       "   R&D Spend  Administration  Marketing Spend    Profit\n",
       "0   1.000000        0.651744         1.000000  1.000000\n",
       "1   0.983359        0.761972         0.940893  0.997355\n",
       "2   0.927985        0.379579         0.864664  0.993178\n",
       "3   0.873136        0.512998         0.812235  0.947292\n",
       "4   0.859438        0.305328         0.776136  0.853171"
      ]
     },
     "execution_count": 209,
     "metadata": {},
     "output_type": "execute_result"
    }
   ],
   "source": [
    "startup_scaled.head()"
   ]
  },
  {
   "cell_type": "code",
   "execution_count": 210,
   "metadata": {},
   "outputs": [],
   "source": [
    "X=startup_scaled.iloc[:,0:3]\n",
    "y=startup_scaled.iloc[:,3]"
   ]
  },
  {
   "cell_type": "code",
   "execution_count": 211,
   "metadata": {},
   "outputs": [
    {
     "data": {
      "text/plain": [
       "0    1.000000\n",
       "1    0.997355\n",
       "2    0.993178\n",
       "3    0.947292\n",
       "4    0.853171\n",
       "Name: Profit, dtype: float64"
      ]
     },
     "execution_count": 211,
     "metadata": {},
     "output_type": "execute_result"
    }
   ],
   "source": [
    "y.head()"
   ]
  },
  {
   "cell_type": "code",
   "execution_count": 214,
   "metadata": {},
   "outputs": [],
   "source": [
    "State=pd.get_dummies(startups['State'])\n"
   ]
  },
  {
   "cell_type": "code",
   "execution_count": 215,
   "metadata": {},
   "outputs": [],
   "source": [
    "frames=[X,State]\n",
    "Startup_new=pd.concat(frames,axis=1)"
   ]
  },
  {
   "cell_type": "code",
   "execution_count": 216,
   "metadata": {},
   "outputs": [
    {
     "data": {
      "text/html": [
       "<div>\n",
       "<style scoped>\n",
       "    .dataframe tbody tr th:only-of-type {\n",
       "        vertical-align: middle;\n",
       "    }\n",
       "\n",
       "    .dataframe tbody tr th {\n",
       "        vertical-align: top;\n",
       "    }\n",
       "\n",
       "    .dataframe thead th {\n",
       "        text-align: right;\n",
       "    }\n",
       "</style>\n",
       "<table border=\"1\" class=\"dataframe\">\n",
       "  <thead>\n",
       "    <tr style=\"text-align: right;\">\n",
       "      <th></th>\n",
       "      <th>R&amp;D Spend</th>\n",
       "      <th>Administration</th>\n",
       "      <th>Marketing Spend</th>\n",
       "      <th>California</th>\n",
       "      <th>Florida</th>\n",
       "      <th>New York</th>\n",
       "    </tr>\n",
       "  </thead>\n",
       "  <tbody>\n",
       "    <tr>\n",
       "      <th>0</th>\n",
       "      <td>1.000000</td>\n",
       "      <td>0.651744</td>\n",
       "      <td>1.000000</td>\n",
       "      <td>0</td>\n",
       "      <td>0</td>\n",
       "      <td>1</td>\n",
       "    </tr>\n",
       "    <tr>\n",
       "      <th>1</th>\n",
       "      <td>0.983359</td>\n",
       "      <td>0.761972</td>\n",
       "      <td>0.940893</td>\n",
       "      <td>1</td>\n",
       "      <td>0</td>\n",
       "      <td>0</td>\n",
       "    </tr>\n",
       "    <tr>\n",
       "      <th>2</th>\n",
       "      <td>0.927985</td>\n",
       "      <td>0.379579</td>\n",
       "      <td>0.864664</td>\n",
       "      <td>0</td>\n",
       "      <td>1</td>\n",
       "      <td>0</td>\n",
       "    </tr>\n",
       "    <tr>\n",
       "      <th>3</th>\n",
       "      <td>0.873136</td>\n",
       "      <td>0.512998</td>\n",
       "      <td>0.812235</td>\n",
       "      <td>0</td>\n",
       "      <td>0</td>\n",
       "      <td>1</td>\n",
       "    </tr>\n",
       "    <tr>\n",
       "      <th>4</th>\n",
       "      <td>0.859438</td>\n",
       "      <td>0.305328</td>\n",
       "      <td>0.776136</td>\n",
       "      <td>0</td>\n",
       "      <td>1</td>\n",
       "      <td>0</td>\n",
       "    </tr>\n",
       "  </tbody>\n",
       "</table>\n",
       "</div>"
      ],
      "text/plain": [
       "   R&D Spend  Administration  Marketing Spend  California  Florida  New York\n",
       "0   1.000000        0.651744         1.000000           0        0         1\n",
       "1   0.983359        0.761972         0.940893           1        0         0\n",
       "2   0.927985        0.379579         0.864664           0        1         0\n",
       "3   0.873136        0.512998         0.812235           0        0         1\n",
       "4   0.859438        0.305328         0.776136           0        1         0"
      ]
     },
     "execution_count": 216,
     "metadata": {},
     "output_type": "execute_result"
    }
   ],
   "source": [
    "Startup_new.head()"
   ]
  },
  {
   "cell_type": "code",
   "execution_count": 217,
   "metadata": {},
   "outputs": [
    {
     "data": {
      "text/plain": [
       "(50, 6)"
      ]
     },
     "execution_count": 217,
     "metadata": {},
     "output_type": "execute_result"
    }
   ],
   "source": [
    "Startup_new.shape"
   ]
  },
  {
   "cell_type": "code",
   "execution_count": 218,
   "metadata": {},
   "outputs": [],
   "source": [
    "X=Startup_new\n",
    "y=startup_scaled.iloc[:,3]"
   ]
  },
  {
   "cell_type": "code",
   "execution_count": 224,
   "metadata": {},
   "outputs": [
    {
     "data": {
      "text/plain": [
       "(50, 6)"
      ]
     },
     "execution_count": 224,
     "metadata": {},
     "output_type": "execute_result"
    }
   ],
   "source": [
    "X.shape"
   ]
  },
  {
   "cell_type": "code",
   "execution_count": 220,
   "metadata": {},
   "outputs": [],
   "source": [
    "from sklearn.model_selection import train_test_split"
   ]
  },
  {
   "cell_type": "code",
   "execution_count": 221,
   "metadata": {},
   "outputs": [],
   "source": [
    "X_train,X_test,y_train,y_test=train_test_split(X,y,test_size=0.2,random_state=2)"
   ]
  },
  {
   "cell_type": "code",
   "execution_count": 232,
   "metadata": {},
   "outputs": [],
   "source": [
    "def prep_model(hiddendim):\n",
    "    model=Sequential()\n",
    "    for i in range(1,4):\n",
    "        if (i==1):\n",
    "            model.add(Dense(hiddendim[1],input_dim=hiddendim[0],kernel_initializer=\"normal\",activation='linear'))\n",
    "        else:\n",
    "            model.add(Dense(hiddendim[i],activation='linear'))\n",
    "    model.add(Dense(hiddendim[-1],activation='linear'))\n",
    "    model.compile(loss='mean_squared_error',optimizer='adam',metrics = [\"accuracy\"])\n",
    "    return model"
   ]
  },
  {
   "cell_type": "code",
   "execution_count": 233,
   "metadata": {},
   "outputs": [
    {
     "name": "stdout",
     "output_type": "stream",
     "text": [
      "Model: \"sequential_23\"\n",
      "_________________________________________________________________\n",
      "Layer (type)                 Output Shape              Param #   \n",
      "=================================================================\n",
      "dense_69 (Dense)             (None, 50)                200       \n",
      "_________________________________________________________________\n",
      "dense_70 (Dense)             (None, 30)                1530      \n",
      "_________________________________________________________________\n",
      "dense_71 (Dense)             (None, 1)                 31        \n",
      "_________________________________________________________________\n",
      "dense_72 (Dense)             (None, 1)                 2         \n",
      "=================================================================\n",
      "Total params: 1,763\n",
      "Trainable params: 1,763\n",
      "Non-trainable params: 0\n",
      "_________________________________________________________________\n"
     ]
    }
   ],
   "source": [
    "hidden.summary()"
   ]
  },
  {
   "cell_type": "code",
   "execution_count": 236,
   "metadata": {},
   "outputs": [],
   "source": [
    "hiddendim=prep_model([6,50,30,1])\n"
   ]
  },
  {
   "cell_type": "code",
   "execution_count": 237,
   "metadata": {},
   "outputs": [
    {
     "name": "stdout",
     "output_type": "stream",
     "text": [
      "Epoch 1/30\n",
      "40/40 [==============================] - 0s 4ms/step - loss: 0.3197 - accuracy: 0.0250\n",
      "Epoch 2/30\n",
      "40/40 [==============================] - 0s 175us/step - loss: 0.2181 - accuracy: 0.0250\n",
      "Epoch 3/30\n",
      "40/40 [==============================] - 0s 199us/step - loss: 0.1457 - accuracy: 0.0250\n",
      "Epoch 4/30\n",
      "40/40 [==============================] - 0s 225us/step - loss: 0.0875 - accuracy: 0.0250\n",
      "Epoch 5/30\n",
      "40/40 [==============================] - 0s 125us/step - loss: 0.0483 - accuracy: 0.0250\n",
      "Epoch 6/30\n",
      "40/40 [==============================] - 0s 175us/step - loss: 0.0274 - accuracy: 0.0250\n",
      "Epoch 7/30\n",
      "40/40 [==============================] - 0s 200us/step - loss: 0.0237 - accuracy: 0.0250\n",
      "Epoch 8/30\n",
      "40/40 [==============================] - 0s 125us/step - loss: 0.0280 - accuracy: 0.0250\n",
      "Epoch 9/30\n",
      "40/40 [==============================] - 0s 200us/step - loss: 0.0349 - accuracy: 0.0250\n",
      "Epoch 10/30\n",
      "40/40 [==============================] - 0s 175us/step - loss: 0.0368 - accuracy: 0.0250\n",
      "Epoch 11/30\n",
      "40/40 [==============================] - 0s 150us/step - loss: 0.0321 - accuracy: 0.0250\n",
      "Epoch 12/30\n",
      "40/40 [==============================] - 0s 225us/step - loss: 0.0241 - accuracy: 0.0250\n",
      "Epoch 13/30\n",
      "40/40 [==============================] - 0s 150us/step - loss: 0.0164 - accuracy: 0.0250\n",
      "Epoch 14/30\n",
      "40/40 [==============================] - 0s 200us/step - loss: 0.0126 - accuracy: 0.0250\n",
      "Epoch 15/30\n",
      "40/40 [==============================] - 0s 225us/step - loss: 0.0111 - accuracy: 0.0250\n",
      "Epoch 16/30\n",
      "40/40 [==============================] - 0s 175us/step - loss: 0.0124 - accuracy: 0.0250\n",
      "Epoch 17/30\n",
      "40/40 [==============================] - 0s 175us/step - loss: 0.0144 - accuracy: 0.0250\n",
      "Epoch 18/30\n",
      "40/40 [==============================] - 0s 175us/step - loss: 0.0155 - accuracy: 0.0250\n",
      "Epoch 19/30\n",
      "40/40 [==============================] - 0s 275us/step - loss: 0.0154 - accuracy: 0.0250\n",
      "Epoch 20/30\n",
      "40/40 [==============================] - 0s 200us/step - loss: 0.0141 - accuracy: 0.0250\n",
      "Epoch 21/30\n",
      "40/40 [==============================] - 0s 150us/step - loss: 0.0126 - accuracy: 0.0250\n",
      "Epoch 22/30\n",
      "40/40 [==============================] - 0s 200us/step - loss: 0.0107 - accuracy: 0.0250\n",
      "Epoch 23/30\n",
      "40/40 [==============================] - 0s 200us/step - loss: 0.0100 - accuracy: 0.0250\n",
      "Epoch 24/30\n",
      "40/40 [==============================] - 0s 225us/step - loss: 0.0092 - accuracy: 0.0250\n",
      "Epoch 25/30\n",
      "40/40 [==============================] - 0s 275us/step - loss: 0.0088 - accuracy: 0.0250\n",
      "Epoch 26/30\n",
      "40/40 [==============================] - 0s 175us/step - loss: 0.0089 - accuracy: 0.0250\n",
      "Epoch 27/30\n",
      "40/40 [==============================] - 0s 175us/step - loss: 0.0088 - accuracy: 0.0250\n",
      "Epoch 28/30\n",
      "40/40 [==============================] - 0s 200us/step - loss: 0.0086 - accuracy: 0.0250\n",
      "Epoch 29/30\n",
      "40/40 [==============================] - 0s 150us/step - loss: 0.0083 - accuracy: 0.0250\n",
      "Epoch 30/30\n",
      "40/40 [==============================] - 0s 200us/step - loss: 0.0078 - accuracy: 0.0250\n"
     ]
    },
    {
     "data": {
      "text/plain": [
       "<keras.callbacks.callbacks.History at 0x2967038eac8>"
      ]
     },
     "execution_count": 237,
     "metadata": {},
     "output_type": "execute_result"
    }
   ],
   "source": [
    "hiddendim.fit(X_train,y_train,epochs=30)"
   ]
  },
  {
   "cell_type": "code",
   "execution_count": 238,
   "metadata": {},
   "outputs": [],
   "source": [
    "predict_values=hiddendim.predict(X_test)"
   ]
  },
  {
   "cell_type": "code",
   "execution_count": 248,
   "metadata": {},
   "outputs": [
    {
     "data": {
      "text/plain": [
       "array([[0.5005177 ],\n",
       "       [0.29234034],\n",
       "       [0.6434006 ],\n",
       "       [0.68754035],\n",
       "       [0.63289267],\n",
       "       [0.93094593],\n",
       "       [0.39141086],\n",
       "       [0.46246216],\n",
       "       [0.37988874],\n",
       "       [0.6069994 ]], dtype=float32)"
      ]
     },
     "execution_count": 248,
     "metadata": {},
     "output_type": "execute_result"
    }
   ],
   "source": [
    "predict_values"
   ]
  },
  {
   "cell_type": "code",
   "execution_count": null,
   "metadata": {},
   "outputs": [],
   "source": []
  },
  {
   "cell_type": "code",
   "execution_count": 247,
   "metadata": {},
   "outputs": [
    {
     "data": {
      "text/plain": [
       "array([0.42812595, 0.15698988, 0.49893437, 0.7606613 , 0.67364377,\n",
       "       1.        , 0.28448478, 0.19602019, 0.37348913, 0.52963376])"
      ]
     },
     "execution_count": 247,
     "metadata": {},
     "output_type": "execute_result"
    }
   ],
   "source": [
    "y_test.values"
   ]
  },
  {
   "cell_type": "code",
   "execution_count": 246,
   "metadata": {},
   "outputs": [
    {
     "data": {
      "text/plain": [
       "0.36952301766332124"
      ]
     },
     "execution_count": 246,
     "metadata": {},
     "output_type": "execute_result"
    }
   ],
   "source": [
    "pred_train = pd.Series([i[0] for i in predict_values])\n",
    "rmse_value = np.sqrt(np.mean((pred_train-y_test)**2))\n",
    "rmse_value"
   ]
  },
  {
   "cell_type": "code",
   "execution_count": 245,
   "metadata": {},
   "outputs": [
    {
     "data": {
      "text/plain": [
       "36    0.428126\n",
       "47    0.156990\n",
       "28    0.498934\n",
       "9     0.760661\n",
       "13    0.673644\n",
       "0     1.000000\n",
       "44    0.284485\n",
       "46    0.196020\n",
       "39    0.373489\n",
       "23    0.529634\n",
       "Name: Profit, dtype: float64"
      ]
     },
     "execution_count": 245,
     "metadata": {},
     "output_type": "execute_result"
    }
   ],
   "source": [
    "y_test"
   ]
  },
  {
   "cell_type": "code",
   "execution_count": 244,
   "metadata": {},
   "outputs": [
    {
     "data": {
      "text/plain": [
       "0    0.500518\n",
       "1    0.292340\n",
       "2    0.643401\n",
       "3    0.687540\n",
       "4    0.632893\n",
       "5    0.930946\n",
       "6    0.391411\n",
       "7    0.462462\n",
       "8    0.379889\n",
       "9    0.606999\n",
       "dtype: float64"
      ]
     },
     "execution_count": 244,
     "metadata": {},
     "output_type": "execute_result"
    }
   ],
   "source": [
    "pred_train"
   ]
  },
  {
   "cell_type": "code",
   "execution_count": 242,
   "metadata": {},
   "outputs": [
    {
     "data": {
      "text/plain": [
       "array([[1.        , 0.94132282],\n",
       "       [0.94132282, 1.        ]])"
      ]
     },
     "execution_count": 242,
     "metadata": {},
     "output_type": "execute_result"
    }
   ],
   "source": [
    "np.corrcoef(y_test,pred_train)"
   ]
  },
  {
   "cell_type": "code",
   "execution_count": 243,
   "metadata": {},
   "outputs": [
    {
     "data": {
      "text/plain": [
       "[<matplotlib.lines.Line2D at 0x296704fe278>]"
      ]
     },
     "execution_count": 243,
     "metadata": {},
     "output_type": "execute_result"
    },
    {
     "data": {
      "image/png": "[encoded data removed]",
      "text/plain": [
       "<Figure size 432x288 with 1 Axes>"
      ]
     },
     "metadata": {
      "needs_background": "light"
     },
     "output_type": "display_data"
    }
   ],
   "source": [
    "plt.plot(pred_train,y_test,'bo')"
   ]
  },
  {
   "cell_type": "code",
   "execution_count": null,
   "metadata": {},
   "outputs": [],
   "source": [
    "#This model has 2 hidden layers and the accuracy of this model is 94%"
   ]
  }
 ],
 "metadata": {
  "kernelspec": {
   "display_name": "Python 3",
   "language": "python",
   "name": "python3"
  },
  "language_info": {
   "codemirror_mode": {
    "name": "ipython",
    "version": 3
   },
   "file_extension": ".py",
   "mimetype": "text/x-python",
   "name": "python",
   "nbconvert_exporter": "python",
   "pygments_lexer": "ipython3",
   "version": "3.7.0"
  }
 },
 "nbformat": 4,
 "nbformat_minor": 2
}
